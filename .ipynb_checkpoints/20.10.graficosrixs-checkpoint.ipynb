{
 "cells": [
  {
   "cell_type": "markdown",
   "id": "6b02fdf8-e34f-4f5f-acbe-3e20238a6dff",
   "metadata": {},
   "source": [
    "## Importações"
   ]
  },
  {
   "cell_type": "code",
   "execution_count": 1,
   "id": "a876a18e-0170-4a6d-a477-63db0206e9d3",
   "metadata": {},
   "outputs": [
    {
     "ename": "ModuleNotFoundError",
     "evalue": "No module named 'ipympl'",
     "output_type": "error",
     "traceback": [
      "\u001b[1;31m---------------------------------------------------------------------------\u001b[0m",
      "\u001b[1;31mModuleNotFoundError\u001b[0m                       Traceback (most recent call last)",
      "\u001b[1;32mC:\\Users\\DANIEL~1\\AppData\\Local\\Temp/ipykernel_24528/554330818.py\u001b[0m in \u001b[0;36m<module>\u001b[1;34m\u001b[0m\n\u001b[1;32m----> 1\u001b[1;33m \u001b[0mget_ipython\u001b[0m\u001b[1;33m(\u001b[0m\u001b[1;33m)\u001b[0m\u001b[1;33m.\u001b[0m\u001b[0mrun_line_magic\u001b[0m\u001b[1;33m(\u001b[0m\u001b[1;34m'matplotlib'\u001b[0m\u001b[1;33m,\u001b[0m \u001b[1;34m'widget'\u001b[0m\u001b[1;33m)\u001b[0m\u001b[1;33m\u001b[0m\u001b[1;33m\u001b[0m\u001b[0m\n\u001b[0m\u001b[0;32m      2\u001b[0m \u001b[1;32mimport\u001b[0m \u001b[0mnumpy\u001b[0m \u001b[1;32mas\u001b[0m \u001b[0mnp\u001b[0m\u001b[1;33m\u001b[0m\u001b[1;33m\u001b[0m\u001b[0m\n\u001b[0;32m      3\u001b[0m \u001b[1;32mimport\u001b[0m \u001b[0mmatplotlib\u001b[0m\u001b[1;33m.\u001b[0m\u001b[0mpyplot\u001b[0m \u001b[1;32mas\u001b[0m \u001b[0mplt\u001b[0m\u001b[1;33m\u001b[0m\u001b[1;33m\u001b[0m\u001b[0m\n\u001b[0;32m      4\u001b[0m \u001b[1;32mfrom\u001b[0m \u001b[0mscipy\u001b[0m\u001b[1;33m.\u001b[0m\u001b[0msignal\u001b[0m \u001b[1;32mimport\u001b[0m \u001b[0mfind_peaks\u001b[0m\u001b[1;33m\u001b[0m\u001b[1;33m\u001b[0m\u001b[0m\n\u001b[0;32m      5\u001b[0m \u001b[1;32mimport\u001b[0m \u001b[0mpandas\u001b[0m \u001b[1;32mas\u001b[0m \u001b[0mpd\u001b[0m\u001b[1;33m\u001b[0m\u001b[1;33m\u001b[0m\u001b[0m\n",
      "\u001b[1;32mc:\\venv\\ilumpy\\lib\\site-packages\\IPython\\core\\interactiveshell.py\u001b[0m in \u001b[0;36mrun_line_magic\u001b[1;34m(self, magic_name, line, _stack_depth)\u001b[0m\n\u001b[0;32m   2346\u001b[0m                 \u001b[0mkwargs\u001b[0m\u001b[1;33m[\u001b[0m\u001b[1;34m'local_ns'\u001b[0m\u001b[1;33m]\u001b[0m \u001b[1;33m=\u001b[0m \u001b[0mself\u001b[0m\u001b[1;33m.\u001b[0m\u001b[0mget_local_scope\u001b[0m\u001b[1;33m(\u001b[0m\u001b[0mstack_depth\u001b[0m\u001b[1;33m)\u001b[0m\u001b[1;33m\u001b[0m\u001b[1;33m\u001b[0m\u001b[0m\n\u001b[0;32m   2347\u001b[0m             \u001b[1;32mwith\u001b[0m \u001b[0mself\u001b[0m\u001b[1;33m.\u001b[0m\u001b[0mbuiltin_trap\u001b[0m\u001b[1;33m:\u001b[0m\u001b[1;33m\u001b[0m\u001b[1;33m\u001b[0m\u001b[0m\n\u001b[1;32m-> 2348\u001b[1;33m                 \u001b[0mresult\u001b[0m \u001b[1;33m=\u001b[0m \u001b[0mfn\u001b[0m\u001b[1;33m(\u001b[0m\u001b[1;33m*\u001b[0m\u001b[0margs\u001b[0m\u001b[1;33m,\u001b[0m \u001b[1;33m**\u001b[0m\u001b[0mkwargs\u001b[0m\u001b[1;33m)\u001b[0m\u001b[1;33m\u001b[0m\u001b[1;33m\u001b[0m\u001b[0m\n\u001b[0m\u001b[0;32m   2349\u001b[0m             \u001b[1;32mreturn\u001b[0m \u001b[0mresult\u001b[0m\u001b[1;33m\u001b[0m\u001b[1;33m\u001b[0m\u001b[0m\n\u001b[0;32m   2350\u001b[0m \u001b[1;33m\u001b[0m\u001b[0m\n",
      "\u001b[1;32mc:\\venv\\ilumpy\\lib\\site-packages\\decorator.py\u001b[0m in \u001b[0;36mfun\u001b[1;34m(*args, **kw)\u001b[0m\n\u001b[0;32m    230\u001b[0m             \u001b[1;32mif\u001b[0m \u001b[1;32mnot\u001b[0m \u001b[0mkwsyntax\u001b[0m\u001b[1;33m:\u001b[0m\u001b[1;33m\u001b[0m\u001b[1;33m\u001b[0m\u001b[0m\n\u001b[0;32m    231\u001b[0m                 \u001b[0margs\u001b[0m\u001b[1;33m,\u001b[0m \u001b[0mkw\u001b[0m \u001b[1;33m=\u001b[0m \u001b[0mfix\u001b[0m\u001b[1;33m(\u001b[0m\u001b[0margs\u001b[0m\u001b[1;33m,\u001b[0m \u001b[0mkw\u001b[0m\u001b[1;33m,\u001b[0m \u001b[0msig\u001b[0m\u001b[1;33m)\u001b[0m\u001b[1;33m\u001b[0m\u001b[1;33m\u001b[0m\u001b[0m\n\u001b[1;32m--> 232\u001b[1;33m             \u001b[1;32mreturn\u001b[0m \u001b[0mcaller\u001b[0m\u001b[1;33m(\u001b[0m\u001b[0mfunc\u001b[0m\u001b[1;33m,\u001b[0m \u001b[1;33m*\u001b[0m\u001b[1;33m(\u001b[0m\u001b[0mextras\u001b[0m \u001b[1;33m+\u001b[0m \u001b[0margs\u001b[0m\u001b[1;33m)\u001b[0m\u001b[1;33m,\u001b[0m \u001b[1;33m**\u001b[0m\u001b[0mkw\u001b[0m\u001b[1;33m)\u001b[0m\u001b[1;33m\u001b[0m\u001b[1;33m\u001b[0m\u001b[0m\n\u001b[0m\u001b[0;32m    233\u001b[0m     \u001b[0mfun\u001b[0m\u001b[1;33m.\u001b[0m\u001b[0m__name__\u001b[0m \u001b[1;33m=\u001b[0m \u001b[0mfunc\u001b[0m\u001b[1;33m.\u001b[0m\u001b[0m__name__\u001b[0m\u001b[1;33m\u001b[0m\u001b[1;33m\u001b[0m\u001b[0m\n\u001b[0;32m    234\u001b[0m     \u001b[0mfun\u001b[0m\u001b[1;33m.\u001b[0m\u001b[0m__doc__\u001b[0m \u001b[1;33m=\u001b[0m \u001b[0mfunc\u001b[0m\u001b[1;33m.\u001b[0m\u001b[0m__doc__\u001b[0m\u001b[1;33m\u001b[0m\u001b[1;33m\u001b[0m\u001b[0m\n",
      "\u001b[1;32mc:\\venv\\ilumpy\\lib\\site-packages\\IPython\\core\\magic.py\u001b[0m in \u001b[0;36m<lambda>\u001b[1;34m(f, *a, **k)\u001b[0m\n\u001b[0;32m    185\u001b[0m     \u001b[1;31m# but it's overkill for just that one bit of state.\u001b[0m\u001b[1;33m\u001b[0m\u001b[1;33m\u001b[0m\u001b[0m\n\u001b[0;32m    186\u001b[0m     \u001b[1;32mdef\u001b[0m \u001b[0mmagic_deco\u001b[0m\u001b[1;33m(\u001b[0m\u001b[0marg\u001b[0m\u001b[1;33m)\u001b[0m\u001b[1;33m:\u001b[0m\u001b[1;33m\u001b[0m\u001b[1;33m\u001b[0m\u001b[0m\n\u001b[1;32m--> 187\u001b[1;33m         \u001b[0mcall\u001b[0m \u001b[1;33m=\u001b[0m \u001b[1;32mlambda\u001b[0m \u001b[0mf\u001b[0m\u001b[1;33m,\u001b[0m \u001b[1;33m*\u001b[0m\u001b[0ma\u001b[0m\u001b[1;33m,\u001b[0m \u001b[1;33m**\u001b[0m\u001b[0mk\u001b[0m\u001b[1;33m:\u001b[0m \u001b[0mf\u001b[0m\u001b[1;33m(\u001b[0m\u001b[1;33m*\u001b[0m\u001b[0ma\u001b[0m\u001b[1;33m,\u001b[0m \u001b[1;33m**\u001b[0m\u001b[0mk\u001b[0m\u001b[1;33m)\u001b[0m\u001b[1;33m\u001b[0m\u001b[1;33m\u001b[0m\u001b[0m\n\u001b[0m\u001b[0;32m    188\u001b[0m \u001b[1;33m\u001b[0m\u001b[0m\n\u001b[0;32m    189\u001b[0m         \u001b[1;32mif\u001b[0m \u001b[0mcallable\u001b[0m\u001b[1;33m(\u001b[0m\u001b[0marg\u001b[0m\u001b[1;33m)\u001b[0m\u001b[1;33m:\u001b[0m\u001b[1;33m\u001b[0m\u001b[1;33m\u001b[0m\u001b[0m\n",
      "\u001b[1;32mc:\\venv\\ilumpy\\lib\\site-packages\\IPython\\core\\magics\\pylab.py\u001b[0m in \u001b[0;36mmatplotlib\u001b[1;34m(self, line)\u001b[0m\n\u001b[0;32m     97\u001b[0m             \u001b[0mprint\u001b[0m\u001b[1;33m(\u001b[0m\u001b[1;34m\"Available matplotlib backends: %s\"\u001b[0m \u001b[1;33m%\u001b[0m \u001b[0mbackends_list\u001b[0m\u001b[1;33m)\u001b[0m\u001b[1;33m\u001b[0m\u001b[1;33m\u001b[0m\u001b[0m\n\u001b[0;32m     98\u001b[0m         \u001b[1;32melse\u001b[0m\u001b[1;33m:\u001b[0m\u001b[1;33m\u001b[0m\u001b[1;33m\u001b[0m\u001b[0m\n\u001b[1;32m---> 99\u001b[1;33m             \u001b[0mgui\u001b[0m\u001b[1;33m,\u001b[0m \u001b[0mbackend\u001b[0m \u001b[1;33m=\u001b[0m \u001b[0mself\u001b[0m\u001b[1;33m.\u001b[0m\u001b[0mshell\u001b[0m\u001b[1;33m.\u001b[0m\u001b[0menable_matplotlib\u001b[0m\u001b[1;33m(\u001b[0m\u001b[0margs\u001b[0m\u001b[1;33m.\u001b[0m\u001b[0mgui\u001b[0m\u001b[1;33m.\u001b[0m\u001b[0mlower\u001b[0m\u001b[1;33m(\u001b[0m\u001b[1;33m)\u001b[0m \u001b[1;32mif\u001b[0m \u001b[0misinstance\u001b[0m\u001b[1;33m(\u001b[0m\u001b[0margs\u001b[0m\u001b[1;33m.\u001b[0m\u001b[0mgui\u001b[0m\u001b[1;33m,\u001b[0m \u001b[0mstr\u001b[0m\u001b[1;33m)\u001b[0m \u001b[1;32melse\u001b[0m \u001b[0margs\u001b[0m\u001b[1;33m.\u001b[0m\u001b[0mgui\u001b[0m\u001b[1;33m)\u001b[0m\u001b[1;33m\u001b[0m\u001b[1;33m\u001b[0m\u001b[0m\n\u001b[0m\u001b[0;32m    100\u001b[0m             \u001b[0mself\u001b[0m\u001b[1;33m.\u001b[0m\u001b[0m_show_matplotlib_backend\u001b[0m\u001b[1;33m(\u001b[0m\u001b[0margs\u001b[0m\u001b[1;33m.\u001b[0m\u001b[0mgui\u001b[0m\u001b[1;33m,\u001b[0m \u001b[0mbackend\u001b[0m\u001b[1;33m)\u001b[0m\u001b[1;33m\u001b[0m\u001b[1;33m\u001b[0m\u001b[0m\n\u001b[0;32m    101\u001b[0m \u001b[1;33m\u001b[0m\u001b[0m\n",
      "\u001b[1;32mc:\\venv\\ilumpy\\lib\\site-packages\\IPython\\core\\interactiveshell.py\u001b[0m in \u001b[0;36menable_matplotlib\u001b[1;34m(self, gui)\u001b[0m\n\u001b[0;32m   3528\u001b[0m                 \u001b[0mgui\u001b[0m\u001b[1;33m,\u001b[0m \u001b[0mbackend\u001b[0m \u001b[1;33m=\u001b[0m \u001b[0mpt\u001b[0m\u001b[1;33m.\u001b[0m\u001b[0mfind_gui_and_backend\u001b[0m\u001b[1;33m(\u001b[0m\u001b[0mself\u001b[0m\u001b[1;33m.\u001b[0m\u001b[0mpylab_gui_select\u001b[0m\u001b[1;33m)\u001b[0m\u001b[1;33m\u001b[0m\u001b[1;33m\u001b[0m\u001b[0m\n\u001b[0;32m   3529\u001b[0m \u001b[1;33m\u001b[0m\u001b[0m\n\u001b[1;32m-> 3530\u001b[1;33m         \u001b[0mpt\u001b[0m\u001b[1;33m.\u001b[0m\u001b[0mactivate_matplotlib\u001b[0m\u001b[1;33m(\u001b[0m\u001b[0mbackend\u001b[0m\u001b[1;33m)\u001b[0m\u001b[1;33m\u001b[0m\u001b[1;33m\u001b[0m\u001b[0m\n\u001b[0m\u001b[0;32m   3531\u001b[0m         \u001b[0mconfigure_inline_support\u001b[0m\u001b[1;33m(\u001b[0m\u001b[0mself\u001b[0m\u001b[1;33m,\u001b[0m \u001b[0mbackend\u001b[0m\u001b[1;33m)\u001b[0m\u001b[1;33m\u001b[0m\u001b[1;33m\u001b[0m\u001b[0m\n\u001b[0;32m   3532\u001b[0m \u001b[1;33m\u001b[0m\u001b[0m\n",
      "\u001b[1;32mc:\\venv\\ilumpy\\lib\\site-packages\\IPython\\core\\pylabtools.py\u001b[0m in \u001b[0;36mactivate_matplotlib\u001b[1;34m(backend)\u001b[0m\n\u001b[0;32m    325\u001b[0m     \u001b[1;32mfrom\u001b[0m \u001b[0mmatplotlib\u001b[0m \u001b[1;32mimport\u001b[0m \u001b[0mpyplot\u001b[0m \u001b[1;32mas\u001b[0m \u001b[0mplt\u001b[0m\u001b[1;33m\u001b[0m\u001b[1;33m\u001b[0m\u001b[0m\n\u001b[0;32m    326\u001b[0m \u001b[1;33m\u001b[0m\u001b[0m\n\u001b[1;32m--> 327\u001b[1;33m     \u001b[0mplt\u001b[0m\u001b[1;33m.\u001b[0m\u001b[0mswitch_backend\u001b[0m\u001b[1;33m(\u001b[0m\u001b[0mbackend\u001b[0m\u001b[1;33m)\u001b[0m\u001b[1;33m\u001b[0m\u001b[1;33m\u001b[0m\u001b[0m\n\u001b[0m\u001b[0;32m    328\u001b[0m \u001b[1;33m\u001b[0m\u001b[0m\n\u001b[0;32m    329\u001b[0m     \u001b[0mplt\u001b[0m\u001b[1;33m.\u001b[0m\u001b[0mshow\u001b[0m\u001b[1;33m.\u001b[0m\u001b[0m_needmain\u001b[0m \u001b[1;33m=\u001b[0m \u001b[1;32mFalse\u001b[0m\u001b[1;33m\u001b[0m\u001b[1;33m\u001b[0m\u001b[0m\n",
      "\u001b[1;32mc:\\venv\\ilumpy\\lib\\site-packages\\matplotlib\\pyplot.py\u001b[0m in \u001b[0;36mswitch_backend\u001b[1;34m(newbackend)\u001b[0m\n\u001b[0;32m    275\u001b[0m     \u001b[0mbackend_name\u001b[0m \u001b[1;33m=\u001b[0m \u001b[0mcbook\u001b[0m\u001b[1;33m.\u001b[0m\u001b[0m_backend_module_name\u001b[0m\u001b[1;33m(\u001b[0m\u001b[0mnewbackend\u001b[0m\u001b[1;33m)\u001b[0m\u001b[1;33m\u001b[0m\u001b[1;33m\u001b[0m\u001b[0m\n\u001b[0;32m    276\u001b[0m \u001b[1;33m\u001b[0m\u001b[0m\n\u001b[1;32m--> 277\u001b[1;33m     \u001b[1;32mclass\u001b[0m \u001b[0mbackend_mod\u001b[0m\u001b[1;33m(\u001b[0m\u001b[0mmatplotlib\u001b[0m\u001b[1;33m.\u001b[0m\u001b[0mbackend_bases\u001b[0m\u001b[1;33m.\u001b[0m\u001b[0m_Backend\u001b[0m\u001b[1;33m)\u001b[0m\u001b[1;33m:\u001b[0m\u001b[1;33m\u001b[0m\u001b[1;33m\u001b[0m\u001b[0m\n\u001b[0m\u001b[0;32m    278\u001b[0m         \u001b[0mlocals\u001b[0m\u001b[1;33m(\u001b[0m\u001b[1;33m)\u001b[0m\u001b[1;33m.\u001b[0m\u001b[0mupdate\u001b[0m\u001b[1;33m(\u001b[0m\u001b[0mvars\u001b[0m\u001b[1;33m(\u001b[0m\u001b[0mimportlib\u001b[0m\u001b[1;33m.\u001b[0m\u001b[0mimport_module\u001b[0m\u001b[1;33m(\u001b[0m\u001b[0mbackend_name\u001b[0m\u001b[1;33m)\u001b[0m\u001b[1;33m)\u001b[0m\u001b[1;33m)\u001b[0m\u001b[1;33m\u001b[0m\u001b[1;33m\u001b[0m\u001b[0m\n\u001b[0;32m    279\u001b[0m \u001b[1;33m\u001b[0m\u001b[0m\n",
      "\u001b[1;32mc:\\venv\\ilumpy\\lib\\site-packages\\matplotlib\\pyplot.py\u001b[0m in \u001b[0;36mbackend_mod\u001b[1;34m()\u001b[0m\n\u001b[0;32m    276\u001b[0m \u001b[1;33m\u001b[0m\u001b[0m\n\u001b[0;32m    277\u001b[0m     \u001b[1;32mclass\u001b[0m \u001b[0mbackend_mod\u001b[0m\u001b[1;33m(\u001b[0m\u001b[0mmatplotlib\u001b[0m\u001b[1;33m.\u001b[0m\u001b[0mbackend_bases\u001b[0m\u001b[1;33m.\u001b[0m\u001b[0m_Backend\u001b[0m\u001b[1;33m)\u001b[0m\u001b[1;33m:\u001b[0m\u001b[1;33m\u001b[0m\u001b[1;33m\u001b[0m\u001b[0m\n\u001b[1;32m--> 278\u001b[1;33m         \u001b[0mlocals\u001b[0m\u001b[1;33m(\u001b[0m\u001b[1;33m)\u001b[0m\u001b[1;33m.\u001b[0m\u001b[0mupdate\u001b[0m\u001b[1;33m(\u001b[0m\u001b[0mvars\u001b[0m\u001b[1;33m(\u001b[0m\u001b[0mimportlib\u001b[0m\u001b[1;33m.\u001b[0m\u001b[0mimport_module\u001b[0m\u001b[1;33m(\u001b[0m\u001b[0mbackend_name\u001b[0m\u001b[1;33m)\u001b[0m\u001b[1;33m)\u001b[0m\u001b[1;33m)\u001b[0m\u001b[1;33m\u001b[0m\u001b[1;33m\u001b[0m\u001b[0m\n\u001b[0m\u001b[0;32m    279\u001b[0m \u001b[1;33m\u001b[0m\u001b[0m\n\u001b[0;32m    280\u001b[0m     \u001b[0mrequired_framework\u001b[0m \u001b[1;33m=\u001b[0m \u001b[0m_get_required_interactive_framework\u001b[0m\u001b[1;33m(\u001b[0m\u001b[0mbackend_mod\u001b[0m\u001b[1;33m)\u001b[0m\u001b[1;33m\u001b[0m\u001b[1;33m\u001b[0m\u001b[0m\n",
      "\u001b[1;32mC:\\Program Files\\Python39\\lib\\importlib\\__init__.py\u001b[0m in \u001b[0;36mimport_module\u001b[1;34m(name, package)\u001b[0m\n\u001b[0;32m    125\u001b[0m                 \u001b[1;32mbreak\u001b[0m\u001b[1;33m\u001b[0m\u001b[1;33m\u001b[0m\u001b[0m\n\u001b[0;32m    126\u001b[0m             \u001b[0mlevel\u001b[0m \u001b[1;33m+=\u001b[0m \u001b[1;36m1\u001b[0m\u001b[1;33m\u001b[0m\u001b[1;33m\u001b[0m\u001b[0m\n\u001b[1;32m--> 127\u001b[1;33m     \u001b[1;32mreturn\u001b[0m \u001b[0m_bootstrap\u001b[0m\u001b[1;33m.\u001b[0m\u001b[0m_gcd_import\u001b[0m\u001b[1;33m(\u001b[0m\u001b[0mname\u001b[0m\u001b[1;33m[\u001b[0m\u001b[0mlevel\u001b[0m\u001b[1;33m:\u001b[0m\u001b[1;33m]\u001b[0m\u001b[1;33m,\u001b[0m \u001b[0mpackage\u001b[0m\u001b[1;33m,\u001b[0m \u001b[0mlevel\u001b[0m\u001b[1;33m)\u001b[0m\u001b[1;33m\u001b[0m\u001b[1;33m\u001b[0m\u001b[0m\n\u001b[0m\u001b[0;32m    128\u001b[0m \u001b[1;33m\u001b[0m\u001b[0m\n\u001b[0;32m    129\u001b[0m \u001b[1;33m\u001b[0m\u001b[0m\n",
      "\u001b[1;32mC:\\Program Files\\Python39\\lib\\importlib\\_bootstrap.py\u001b[0m in \u001b[0;36m_gcd_import\u001b[1;34m(name, package, level)\u001b[0m\n",
      "\u001b[1;32mC:\\Program Files\\Python39\\lib\\importlib\\_bootstrap.py\u001b[0m in \u001b[0;36m_find_and_load\u001b[1;34m(name, import_)\u001b[0m\n",
      "\u001b[1;32mC:\\Program Files\\Python39\\lib\\importlib\\_bootstrap.py\u001b[0m in \u001b[0;36m_find_and_load_unlocked\u001b[1;34m(name, import_)\u001b[0m\n",
      "\u001b[1;32mC:\\Program Files\\Python39\\lib\\importlib\\_bootstrap.py\u001b[0m in \u001b[0;36m_call_with_frames_removed\u001b[1;34m(f, *args, **kwds)\u001b[0m\n",
      "\u001b[1;32mC:\\Program Files\\Python39\\lib\\importlib\\_bootstrap.py\u001b[0m in \u001b[0;36m_gcd_import\u001b[1;34m(name, package, level)\u001b[0m\n",
      "\u001b[1;32mC:\\Program Files\\Python39\\lib\\importlib\\_bootstrap.py\u001b[0m in \u001b[0;36m_find_and_load\u001b[1;34m(name, import_)\u001b[0m\n",
      "\u001b[1;32mC:\\Program Files\\Python39\\lib\\importlib\\_bootstrap.py\u001b[0m in \u001b[0;36m_find_and_load_unlocked\u001b[1;34m(name, import_)\u001b[0m\n",
      "\u001b[1;31mModuleNotFoundError\u001b[0m: No module named 'ipympl'"
     ]
    }
   ],
   "source": [
    "%matplotlib widget\n",
    "import numpy as np\n",
    "import matplotlib.pyplot as plt\n",
    "from scipy.signal import find_peaks\n",
    "import pandas as pd\n",
    "import os\n",
    "import sys\n",
    "sys.path.append(r'C:\\JupyterLab\\4° Semestre\\IP III\\brixs')\n",
    "import brixs as br\n",
    "br.Spectra()\n"
   ]
  },
  {
   "cell_type": "code",
   "execution_count": null,
   "id": "b127e606-98f6-4faf-978b-c6ab462ebcb1",
   "metadata": {},
   "outputs": [],
   "source": [
    "! python -V"
   ]
  },
  {
   "cell_type": "markdown",
   "id": "951dbde8-e40c-43cc-8f30-f25a895fb461",
   "metadata": {},
   "source": [
    "---\n",
    "## Importar dados:"
   ]
  },
  {
   "cell_type": "code",
   "execution_count": null,
   "id": "4dd5abf2-ed9d-4637-8f28-d6bf71c79959",
   "metadata": {
    "tags": []
   },
   "outputs": [],
   "source": [
    "df = pd.read_csv('Calc2/x2-y2/X2-y2_ch1/0.dat', delimiter=',', comment='#', header=None, dtype=float)\n",
    "df.columns = ['energia', 'intensidade']\n"
   ]
  },
  {
   "cell_type": "code",
   "execution_count": null,
   "id": "64f30a10-8db8-47a4-b909-e02986309980",
   "metadata": {
    "tags": []
   },
   "outputs": [],
   "source": [
    "#plt.plot(np.array(df['energia']),np.array(df['intensidade']))\n",
    "#plt.show()"
   ]
  },
  {
   "cell_type": "code",
   "execution_count": null,
   "id": "ed3327b4-ef01-4bef-a529-25fa5326e8a0",
   "metadata": {},
   "outputs": [],
   "source": [
    "peak, _ = find_peaks(df['intensidade'])"
   ]
  },
  {
   "cell_type": "code",
   "execution_count": null,
   "id": "0db4b8c3-c3a3-49b3-80bd-f6047ba17714",
   "metadata": {},
   "outputs": [],
   "source": [
    "peak_indices = peak.tolist()\n",
    "peak_indices"
   ]
  },
  {
   "cell_type": "code",
   "execution_count": null,
   "id": "a575548f-9028-4f11-b8d3-0644e36ab9fd",
   "metadata": {},
   "outputs": [],
   "source": [
    "energia = np.array(df['energia'])\n",
    "intensidade = np.array(df['intensidade'])\n",
    "\n",
    "plt.plot(energia,intensidade)\n",
    "plt.plot(energia[peak_indices], intensidade[peak_indices], \"x\")"
   ]
  },
  {
   "cell_type": "markdown",
   "id": "df14444a-ffba-4ba1-ab8b-363da6f88e5a",
   "metadata": {},
   "source": [
    "---"
   ]
  },
  {
   "cell_type": "markdown",
   "id": "bb8b933d-e9ef-41e0-851a-6551674d19b0",
   "metadata": {},
   "source": [
    "#### Estabelecido o fluxograma de trabalho, vamos generalizar para todos os nossos arquivos '.dat'\n",
    "---"
   ]
  },
  {
   "cell_type": "markdown",
   "id": "fa928f37-1d25-4c0c-af6d-fba621c9a8ce",
   "metadata": {},
   "source": [
    "## Importar dados e criar dataframe:\n",
    "- É necessário garantir que os arquivo '.dat' estejam ordenados para que na hora de plotar o gráfico os ângulos estejam corretos;\n",
    "- Aqui generalizamos para conseguir ler os 15 arquivos e criar uma lista com todos os dataframes."
   ]
  },
  {
   "cell_type": "code",
   "execution_count": null,
   "id": "10802064-e04d-444b-b158-6d70a28ff941",
   "metadata": {},
   "outputs": [],
   "source": [
    "arquivos = [arquivo for arquivo in os.listdir('Calc2/x2-y2/X2-y2_ch1') if arquivo.endswith('.dat')]\n",
    "\n",
    "numeros = [int(arquivo.split('.')[0]) for arquivo in arquivos]"
   ]
  },
  {
   "cell_type": "code",
   "execution_count": null,
   "id": "6284c35a-16f2-4d3f-ba75-1c495e589fd4",
   "metadata": {},
   "outputs": [],
   "source": [
    "def ler_arquivos_dat(pasta, arquivos):\n",
    "    dataframes = []\n",
    "    \n",
    "    # Listar os arquivos na pasta\n",
    "    arquivos = sorted(arquivos, key=lambda x: int(x.split('.')[0]))  # Ordenar numericamente\n",
    "\n",
    "    for arquivo in arquivos:\n",
    "        caminho_arquivo = os.path.join(pasta, arquivo)  # Caminho completo para o arquivo\n",
    "        df = pd.read_csv(caminho_arquivo, comment='#', delimiter=',', header=None, dtype=float)\n",
    "        df.columns = ['energia', 'intensidade']  # Renomear as colunas\n",
    "        dataframes.append((arquivo, df))  # Adicionar o nome do arquivo e o dataframe à lista\n",
    "\n",
    "    return dataframes\n",
    "\n",
    "\n",
    "dataframes = ler_arquivos_dat('Calc2/x2-y2/X2-y2_ch1', arquivos)"
   ]
  },
  {
   "cell_type": "code",
   "execution_count": null,
   "id": "d0f3bc11-8916-4045-a4f4-bcae52794862",
   "metadata": {
    "collapsed": true,
    "jupyter": {
     "outputs_hidden": true
    },
    "tags": []
   },
   "outputs": [],
   "source": []
  },
  {
   "cell_type": "markdown",
   "id": "d74309b1-03b7-4dc8-ba20-c3a9b695b429",
   "metadata": {},
   "source": [
    "## Encontrar os picos:\n",
    "\n",
    "- Aqui nós criamos um dicionário para armazenar as intensidades relativas a cada pico para cada um dos ângulos;\n",
    "- Foi realizado o Plot dos gráficos de intensidade por energy loss."
   ]
  },
  {
   "cell_type": "code",
   "execution_count": null,
   "id": "4c598613-73a9-42e1-b560-4ac6a1e677b2",
   "metadata": {
    "tags": []
   },
   "outputs": [],
   "source": [
    "lista_intensidade = {}\n",
    "\n",
    "for arquivo, df in dataframes:    \n",
    "    peak, _ = find_peaks(df['intensidade'])  \n",
    "    \n",
    "    peak_indices = peak.tolist()\n",
    "    \n",
    "    for idx in peak_indices:\n",
    "        if idx not in lista_intensidade:\n",
    "            lista_intensidade[idx] = []\n",
    "        lista_intensidade[idx].append(df['intensidade'].iloc[idx])\n",
    "    \n",
    "    energia = np.array(df['energia'])\n",
    "    intensidade = np.array(df['intensidade'])\n",
    "\n",
    "    plt.figure(figsize=(8, 6))\n",
    "    plt.plot(energia, intensidade)\n",
    "    plt.plot(energia[peak_indices], intensidade[peak_indices], \"x\")\n",
    "\n",
    "    # Adicione títulos e rótulos conforme necessário\n",
    "    plt.title(f' Gráfico de Intensidade por Energia no ângulo {arquivo}')\n",
    "    plt.xlabel('Energia')\n",
    "    plt.ylabel('Intensidade')\n",
    "    \n",
    "    plt.show()"
   ]
  },
  {
   "cell_type": "code",
   "execution_count": null,
   "id": "8ccebf17-5c65-49b6-93d2-34092cc4bda2",
   "metadata": {
    "collapsed": true,
    "jupyter": {
     "outputs_hidden": true
    },
    "tags": []
   },
   "outputs": [],
   "source": []
  },
  {
   "cell_type": "markdown",
   "id": "baeb97d3-7904-48dc-abbf-ca5d1f159bc0",
   "metadata": {},
   "source": [
    "## Plotando o gráfico de ângulo por intensidade:"
   ]
  },
  {
   "cell_type": "code",
   "execution_count": null,
   "id": "c69f3a00-ccaf-459a-aedb-3a2095eeea90",
   "metadata": {},
   "outputs": [],
   "source": [
    "#os valores de x são os ângulo\n",
    "#os valores de y são as intensidades para cada um dos picos \n",
    "\n",
    "for chave, valores in lista_intensidade.items():\n",
    "    #print(chave, valores)\n",
    "    plt.plot(numeros, valores, label = chave,  marker = '*')#, s = 100)\n",
    "    #plt.scatter(numeros, valores, label = chave,  marker = '*')#, s = 100)\n",
    "    "
   ]
  },
  {
   "cell_type": "code",
   "execution_count": null,
   "id": "56d08bed-abe3-4c42-b019-b89e83209efa",
   "metadata": {},
   "outputs": [],
   "source": [
    "# https://github.com/danischagas/IP-III---RIXS.git"
   ]
  },
  {
   "cell_type": "markdown",
   "id": "e4efa72d-1e4c-4a5e-a9fa-11b62088aeea",
   "metadata": {},
   "source": [
    "---"
   ]
  },
  {
   "cell_type": "markdown",
   "id": "85622820-c55f-4a19-85ae-7a4dcadea712",
   "metadata": {},
   "source": [
    "## Repetindo para todos conjuntos de dados"
   ]
  },
  {
   "cell_type": "code",
   "execution_count": null,
   "id": "2fe286e6-8fac-4b5e-8190-967cc40f2aa7",
   "metadata": {},
   "outputs": [],
   "source": [
    "def ler_arquivos_dat(pasta):\n",
    "    \"\"\"Lê arquivo .dat e renomeia as colunas como 'energia' e 'intensidade'.\n",
    "    args:\n",
    "        pasta: caminho onde se econtra a pasta com os dados\n",
    "    \"\"\"\n",
    "    \n",
    "    arquivos = [arquivo for arquivo in os.listdir(pasta) if arquivo.endswith('.dat')]\n",
    "    numeros = [int(arquivo.split('.')[0]) for arquivo in arquivos]\n",
    "    \n",
    "    dataframes = []\n",
    "    \n",
    "    # Listar os arquivos na pasta\n",
    "    arquivos = sorted(arquivos, key=lambda x: int(x.split('.')[0]))  # Ordenar numericamente\n",
    "\n",
    "    for arquivo in arquivos:\n",
    "        caminho_arquivo = os.path.join(pasta, arquivo)  # Caminho completo para o arquivo\n",
    "        df = pd.read_csv(caminho_arquivo, comment='#', delimiter=',', header=None, dtype=float)\n",
    "        df.columns = ['energia', 'intensidade']  # Renomear as colunas\n",
    "        dataframes.append((arquivo, df))  # Adicionar o nome do arquivo e o dataframe à lista\n",
    "\n",
    "    return dataframes,numeros\n",
    "\n",
    "\n",
    "def achando_picos(dataframes):\n",
    "    \n",
    "    lista_intensidade = {}\n",
    "\n",
    "    for arquivo, df in dataframes:    \n",
    "        peak, _ = find_peaks(df['intensidade'])  \n",
    "\n",
    "        peak_indices = peak.tolist()\n",
    "\n",
    "        for idx in peak_indices:\n",
    "            if idx not in lista_intensidade:\n",
    "                lista_intensidade[idx] = []\n",
    "            lista_intensidade[idx].append(df['intensidade'].iloc[idx])\n",
    "\n",
    "        energia = np.array(df['energia'])\n",
    "        intensidade = np.array(df['intensidade'])\n",
    "        \n",
    "    return lista_intensidade\n",
    "\n",
    "plt.figure(figsize=(8, 6))\n",
    "plt.plot(energia, intensidade)\n",
    "plt.plot(energia[peak_indices], intensidade[peak_indices], \"x\")\n",
    "        #\n",
    "        ### Adicione títulos e rótulos conforme necessário\n",
    "plt.title(f' Gráfico de Intensidade por Energia no ângulo {arquivo}, pasta {pasta}')\n",
    "plt.xlabel('Energia')\n",
    "plt.ylabel('Intensidade')\n",
    "plt.show()"
   ]
  },
  {
   "cell_type": "code",
   "execution_count": null,
   "id": "995f5d92-20f6-42a1-b4d3-5325d3279439",
   "metadata": {},
   "outputs": [],
   "source": [
    "\n",
    "pastas = ['Calc2/x2-y2/X2-y2_ch1', 'Calc2/x2-y2/X2-y2_ch2', 'Calc2/z2/z2_ch1', 'Calc2/z2/z2_ch2']\n",
    "\n",
    "for pasta in pastas:\n",
    "    dataframes, numeros = ler_arquivos_dat(pasta)\n",
    "    lista_intensidade = achando_picos(dataframes)\n",
    "    \n",
    "    for chave, valores in lista_intensidade.items():\n",
    "        #print(chave, valores)\n",
    "        plt.plot(numeros, valores, label = chave,  marker = '*')#, s = 100)\n",
    "        plt.legend()\n",
    "        plt.title(f' Gráfico de Intensidade por ângulo (pasta {pasta})')\n",
    "        plt.xlabel('Ângulo')\n",
    "        plt.ylabel('Intensidade')\n",
    "plt.show()"
   ]
  },
  {
   "cell_type": "code",
   "execution_count": null,
   "id": "2fe900dc-d45b-47c1-b58e-e23b70e7f1c9",
   "metadata": {},
   "outputs": [],
   "source": [
    "s1 = br.Spectrum(filepath = 'Calc2/x2-y2/X2-y2_ch1/0.dat')\n",
    "s2 = br.Spectrum(filepath = 'Calc2/x2-y2/X2-y2_ch1/010.dat')\n",
    "s3 = br.Spectrum(filepath = 'Calc2/x2-y2/X2-y2_ch1/020.dat')\n",
    "s4 = br.Spectrum(filepath = 'Calc2/x2-y2/X2-y2_ch1/030.dat')\n",
    "s5 = br.Spectrum(filepath = 'Calc2/x2-y2/X2-y2_ch1/040.dat')\n",
    "s6 = br.Spectrum(filepath = 'Calc2/x2-y2/X2-y2_ch1/050.dat')\n",
    "s7 = br.Spectrum(filepath = 'Calc2/x2-y2/X2-y2_ch1/060.dat')\n",
    "s8 = br.Spectrum(filepath = 'Calc2/x2-y2/X2-y2_ch1/070.dat')\n",
    "s9 = br.Spectrum(filepath = 'Calc2/x2-y2/X2-y2_ch1/080.dat')\n",
    "s10 = br.Spectrum(filepath = 'Calc2/x2-y2/X2-y2_ch1/090.dat')\n",
    "s11 = br.Spectrum(filepath = 'Calc2/x2-y2/X2-y2_ch1/100.dat')\n",
    "s12 = br.Spectrum(filepath = 'Calc2/x2-y2/X2-y2_ch1/110.dat')\n",
    "s13 = br.Spectrum(filepath = 'Calc2/x2-y2/X2-y2_ch1/120.dat')\n",
    "s14 = br.Spectrum(filepath = 'Calc2/x2-y2/X2-y2_ch1/130.dat')\n",
    "s15 = br.Spectrum(filepath = 'Calc2/x2-y2/X2-y2_ch1/140.dat')\n",
    "s16 = br.Spectrum(filepath = 'Calc2/x2-y2/X2-y2_ch1/150.dat')\n",
    "\n",
    "ss = br.Spectra(s1, s2, s3, s4, s5, s6, s7, s8, s9, s10, s11, s12, s13, s14, s15, s16)\n",
    "ss.interp()\n",
    "\n",
    "map = ss.calculate_map(axis=1)\n",
    "plt.figure()\n",
    "map.plot()\n",
    "plt.show()\n",
    "\n",
    "for i,s in enumerate(ss):\n",
    "    s.y += 500*i\n",
    "    \n",
    "plt.figure()\n",
    "ss.plot()\n",
    "plt.legend()\n",
    "plt.show()"
   ]
  },
  {
   "cell_type": "code",
   "execution_count": null,
   "id": "d1373abc-e385-46c3-8e0a-03cd55bd6422",
   "metadata": {},
   "outputs": [],
   "source": [
    "for s in ss:\n",
    "    \n",
    "plt.figure()\n",
    "s.plot()\n",
    "plt.show()"
   ]
  },
  {
   "cell_type": "code",
   "execution_count": null,
   "id": "6f7ad517-5181-49b5-b157-1b04b13274d7",
   "metadata": {},
   "outputs": [],
   "source": [
    "s1 ="
   ]
  }
 ],
 "metadata": {
  "kernelspec": {
   "display_name": "ilumpy",
   "language": "python",
   "name": "ilumpy"
  },
  "language_info": {
   "codemirror_mode": {
    "name": "ipython",
    "version": 3
   },
   "file_extension": ".py",
   "mimetype": "text/x-python",
   "name": "python",
   "nbconvert_exporter": "python",
   "pygments_lexer": "ipython3",
   "version": "3.9.7"
  }
 },
 "nbformat": 4,
 "nbformat_minor": 5
}
